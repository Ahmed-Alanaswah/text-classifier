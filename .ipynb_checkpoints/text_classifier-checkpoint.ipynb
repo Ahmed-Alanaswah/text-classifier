{
 "cells": [
  {
   "cell_type": "code",
   "execution_count": 1,
   "id": "1c9ef260-6f7a-49d4-bfc1-04443e10f384",
   "metadata": {},
   "outputs": [
    {
     "name": "stderr",
     "output_type": "stream",
     "text": [
      "/home/ahmedalanasweh/text-classifier/.venv/lib/python3.9/site-packages/pandas/compat/__init__.py:124: UserWarning: Could not import the lzma module. Your installed Python is incomplete. Attempting to use lzma compression will result in a RuntimeError.\n",
      "  warnings.warn(msg)\n"
     ]
    }
   ],
   "source": [
    "import pandas as pd"
   ]
  },
  {
   "cell_type": "code",
   "execution_count": 2,
   "id": "a1d9fdbd-1a3a-46ca-b7e8-69ecfc313f28",
   "metadata": {},
   "outputs": [],
   "source": [
    "filepath_dict = {'yelp':   'yelp_labelled.txt',\n",
    "                 'amazon': 'amazon_cells_labelled.txt',\n",
    "                 'imdb':   'imdb_labelled.txt'}"
   ]
  },
  {
   "cell_type": "code",
   "execution_count": 3,
   "id": "88799259-0325-4140-a692-2ef28168584b",
   "metadata": {},
   "outputs": [],
   "source": [
    "df_list = []\n",
    "for source, filepath in filepath_dict.items():\n",
    "    df = pd.read_csv(filepath, names=['sentence', 'label'], sep='\\t')\n",
    "    df['source'] = source  # Add another column filled with the source name\n",
    "    df_list.append(df)\n"
   ]
  },
  {
   "cell_type": "code",
   "execution_count": 4,
   "id": "191508ad-cc22-40a0-aac8-3b52c8c44b38",
   "metadata": {},
   "outputs": [
    {
     "data": {
      "text/plain": [
       "[                                              sentence  label source\n",
       " 0                             Wow... Loved this place.      1   yelp\n",
       " 1                                   Crust is not good.      0   yelp\n",
       " 2            Not tasty and the texture was just nasty.      0   yelp\n",
       " 3    Stopped by during the late May bank holiday of...      1   yelp\n",
       " 4    The selection on the menu was great and so wer...      1   yelp\n",
       " ..                                                 ...    ...    ...\n",
       " 995  I think food should have flavor and texture an...      0   yelp\n",
       " 996                           Appetite instantly gone.      0   yelp\n",
       " 997  Overall I was not impressed and would not go b...      0   yelp\n",
       " 998  The whole experience was underwhelming, and I ...      0   yelp\n",
       " 999  Then, as if I hadn't wasted enough of my life ...      0   yelp\n",
       " \n",
       " [1000 rows x 3 columns],\n",
       "                                               sentence  label  source\n",
       " 0    So there is no way for me to plug it in here i...      0  amazon\n",
       " 1                          Good case, Excellent value.      1  amazon\n",
       " 2                               Great for the jawbone.      1  amazon\n",
       " 3    Tied to charger for conversations lasting more...      0  amazon\n",
       " 4                                    The mic is great.      1  amazon\n",
       " ..                                                 ...    ...     ...\n",
       " 995  The screen does get smudged easily because it ...      0  amazon\n",
       " 996  What a piece of junk.. I lose more calls on th...      0  amazon\n",
       " 997                       Item Does Not Match Picture.      0  amazon\n",
       " 998  The only thing that disappoint me is the infra...      0  amazon\n",
       " 999  You can not answer calls with the unit, never ...      0  amazon\n",
       " \n",
       " [1000 rows x 3 columns],\n",
       "                                               sentence  label source\n",
       " 0    A very, very, very slow-moving, aimless movie ...      0   imdb\n",
       " 1    Not sure who was more lost - the flat characte...      0   imdb\n",
       " 2    Attempting artiness with black & white and cle...      0   imdb\n",
       " 3         Very little music or anything to speak of.        0   imdb\n",
       " 4    The best scene in the movie was when Gerardo i...      1   imdb\n",
       " ..                                                 ...    ...    ...\n",
       " 743  I just got bored watching Jessice Lange take h...      0   imdb\n",
       " 744  Unfortunately, any virtue in this film's produ...      0   imdb\n",
       " 745                   In a word, it is embarrassing.        0   imdb\n",
       " 746                               Exceptionally bad!        0   imdb\n",
       " 747  All in all its an insult to one's intelligence...      0   imdb\n",
       " \n",
       " [748 rows x 3 columns]]"
      ]
     },
     "execution_count": 4,
     "metadata": {},
     "output_type": "execute_result"
    }
   ],
   "source": [
    "df_list"
   ]
  },
  {
   "cell_type": "code",
   "execution_count": 5,
   "id": "b25b01b8-016a-438d-bbc4-5cfd514a3f7e",
   "metadata": {},
   "outputs": [
    {
     "name": "stdout",
     "output_type": "stream",
     "text": [
      "sentence    Wow... Loved this place.\n",
      "label                              1\n",
      "source                          yelp\n",
      "Name: 0, dtype: object\n"
     ]
    }
   ],
   "source": [
    "df = pd.concat(df_list)\n",
    "print(df.iloc[0])\n"
   ]
  },
  {
   "cell_type": "code",
   "execution_count": null,
   "id": "454a609c-3a27-4603-bd30-f7a17364c3cf",
   "metadata": {},
   "outputs": [],
   "source": []
  }
 ],
 "metadata": {
  "kernelspec": {
   "display_name": "Python 3 (ipykernel)",
   "language": "python",
   "name": "python3"
  },
  "language_info": {
   "codemirror_mode": {
    "name": "ipython",
    "version": 3
   },
   "file_extension": ".py",
   "mimetype": "text/x-python",
   "name": "python",
   "nbconvert_exporter": "python",
   "pygments_lexer": "ipython3",
   "version": "3.9.5"
  }
 },
 "nbformat": 4,
 "nbformat_minor": 5
}
